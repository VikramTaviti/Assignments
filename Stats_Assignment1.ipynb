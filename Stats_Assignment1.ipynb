{
 "cells": [
  {
   "cell_type": "markdown",
   "id": "50593dfa",
   "metadata": {},
   "source": [
    "Calculate the mean, median, mode and standard deviation for the problem \n",
    "statements 1& 2."
   ]
  },
  {
   "cell_type": "markdown",
   "id": "74ab1510",
   "metadata": {},
   "source": [
    "# Problem 1"
   ]
  },
  {
   "cell_type": "markdown",
   "id": "c03684bc",
   "metadata": {},
   "source": [
    "The marks awarded for an assignment set for a Year 8 class of 20 students were as \n",
    "follows:\n",
    "6 7 5 7 7 8 7 6 9 7 4 10 6 8 8 9 5 6 4 8"
   ]
  },
  {
   "cell_type": "markdown",
   "id": "4cd20015",
   "metadata": {},
   "source": [
    "The mean of a distribution is $$ (1/n)\\sum\\limits_{k=1}^{n}X_{k}$$"
   ]
  },
  {
   "cell_type": "markdown",
   "id": "d7053cda",
   "metadata": {},
   "source": [
    "The formula for median :\n",
    "if there are odd number of observations ((n+1)/2)th term  , \n",
    "else 0.5((n/2)th term + (n/2)+1 th term)"
   ]
  },
  {
   "cell_type": "code",
   "execution_count": 4,
   "id": "bd2274cd",
   "metadata": {},
   "outputs": [],
   "source": [
    "import numpy as np\n",
    "import statistics as st"
   ]
  },
  {
   "cell_type": "code",
   "execution_count": 6,
   "id": "e70503ed",
   "metadata": {},
   "outputs": [
    {
     "name": "stdout",
     "output_type": "stream",
     "text": [
      "mean :  6.85 \n",
      " median :  7.0 \n",
      " mode :  7 \n",
      " standard_deviation :  1.4142135623730951\n"
     ]
    }
   ],
   "source": [
    "arr=np.array([6 ,7, 5, 7, 7 ,8 ,7, 6, 9 ,7 ,4 ,10, 6, 8, 8, 9 ,5 ,6 ,4 ,8])\n",
    "mean=np.mean(arr)\n",
    "median=np.median(arr)\n",
    "mode=st.mode(arr)\n",
    "standard_deviation=st.stdev(arr)\n",
    "print('mean : ',mean,'\\n','median : ',median,'\\n','mode : ',mode,'\\n','standard_deviation : ',standard_deviation)"
   ]
  },
  {
   "cell_type": "markdown",
   "id": "bbd151ce",
   "metadata": {},
   "source": [
    "# Problem 2\n",
    "The number of calls from motorists per day for roadside service was recorded for a \n",
    "particular month:\n",
    "28, 122, 217, 130, 120, 86, 80, 90, 140, 120, 70, 40, 145, 113, 90, 68, 174, 194, 170, \n",
    "100, 75, 104, 97, 75,\n",
    "123, 100, 75, 104, 97, 75, 123, 100, 89, 120, 109"
   ]
  },
  {
   "cell_type": "code",
   "execution_count": 7,
   "id": "7bd37c6d",
   "metadata": {},
   "outputs": [
    {
     "name": "stdout",
     "output_type": "stream",
     "text": [
      "mean :  107.51428571428572 \n",
      " median :  100.0 \n",
      " mode :  75 \n",
      " standard_deviation :  39.33892805484412\n"
     ]
    }
   ],
   "source": [
    "\n",
    "arr=[28, 122, 217, 130, 120, 86, 80, 90, 140, 120, 70, 40, 145, 113, 90, 68, 174, 194, 170,\n",
    "100, 75, 104, 97, 75,\n",
    "123, 100, 75, 104, 97, 75, 123, 100, 89, 120, 109]\n",
    "mean=np.mean(arr)\n",
    "median=np.median(arr)\n",
    "mode=st.mode(arr)\n",
    "standard_deviation=st.stdev(arr)\n",
    "print('mean : ',mean,'\\n','median : ',median,'\\n','mode : ',mode,'\\n','standard_deviation : ',standard_deviation)"
   ]
  },
  {
   "cell_type": "markdown",
   "id": "644e1448",
   "metadata": {},
   "source": [
    "# Problem 3\n",
    "The number of times I go to the gym in weekdays, are given below along with its \n",
    "associated probability:\n",
    "x = 0, 1, 2, 3, 4, 5\n",
    "f(x) = 0.09, 0.15, 0.40, 0.25, 0.10, 0.01\n",
    "Calculate the mean no. of workouts in a week. Also evaluate the variance involved in \n",
    "it."
   ]
  },
  {
   "cell_type": "code",
   "execution_count": 9,
   "id": "8965f0b5",
   "metadata": {},
   "outputs": [
    {
     "name": "stdout",
     "output_type": "stream",
     "text": [
      "mean : 2.15\n",
      "Variance : 3.6999999999999997\n"
     ]
    }
   ],
   "source": [
    "x = [0, 1, 2, 3, 4, 5]\n",
    "fx = [0.09, 0.15, 0.40, 0.25, 0.10, 0.01]\n",
    "mean = sum([float(x[i])*fx[i] for i in range(len(x))])\n",
    "variance = (sum([float(x[i]**2)*fx[i] for i in range(len(x))])-mean)\n",
    "print('mean :',mean)\n",
    "print('Variance :', variance)"
   ]
  },
  {
   "cell_type": "markdown",
   "id": "153eb35f",
   "metadata": {},
   "source": [
    "# Problem 4\n",
    "Let the continuous random variable D denote the diameter of the hole drilled in an \n",
    "aluminum sheet. The target diameter to be achieved is 12.5mm. Random \n",
    "disturbances in the process often result in inaccuracy.\n",
    "Historical data shows that the distribution of D can be modelled by the PDF (𝑑) = \n",
    "20𝑒−20(𝑑−12.5), 𝑑 ≥ 12.5. If a part with diameter > 12.6 mm needs to be scrapped, \n",
    "what is the proportion of those parts? What is the CDF when the diameter is of 11 \n",
    "mm? What is your conclusion regarding the proportion of scraps?"
   ]
  },
  {
   "cell_type": "code",
   "execution_count": 10,
   "id": "aff4ddaa",
   "metadata": {},
   "outputs": [],
   "source": [
    "from scipy import integrate"
   ]
  },
  {
   "cell_type": "code",
   "execution_count": 11,
   "id": "3f501280",
   "metadata": {},
   "outputs": [
    {
     "name": "stdout",
     "output_type": "stream",
     "text": [
      "Proportion of Parts need to scrapped when d >12.6mm is :0.13533528323661398\n",
      "CDF when d= 11mm is:nan\n",
      "Proportion of CDF when d>12.5mm is : 1.0000000000000024\n"
     ]
    },
    {
     "name": "stderr",
     "output_type": "stream",
     "text": [
      "C:\\Users\\DELL\\AppData\\Local\\Temp\\ipykernel_33516\\3370763132.py:1: RuntimeWarning: overflow encountered in exp\n",
      "  PDF=lambda d:20*(np.exp((-20*(d-12.5))))\n",
      "C:\\Users\\DELL\\AppData\\Local\\Temp\\ipykernel_33516\\3370763132.py:5: IntegrationWarning: The maximum number of subdivisions (50) has been achieved.\n",
      "  If increasing the limit yields no improvement it is advised to analyze \n",
      "  the integrand in order to determine the difficulties.  If the position of a \n",
      "  local difficulty can be determined (singularity, discontinuity) one will \n",
      "  probably gain from splitting up the interval and calling the integrator \n",
      "  on the subranges.  Perhaps a special-purpose integrator should be used.\n",
      "  CDF=integrate.quad(PDF,-np.inf,y)\n"
     ]
    }
   ],
   "source": [
    "PDF=lambda d:20*(np.exp((-20*(d-12.5))))\n",
    "x = 12.6\n",
    "P_x=integrate.quad(PDF,12.6,np.inf)\n",
    "y = 11\n",
    "CDF=integrate.quad(PDF,-np.inf,y)\n",
    "print(f\"Proportion of Parts need to scrapped when d >12.6mm is :{P_x[0]}\")\n",
    "print(f\"CDF when d= 11mm is:{CDF[0]}\")\n",
    "print(f\"Proportion of CDF when d>12.5mm is : {integrate.quad(PDF,12.5,np.inf)[0]}\")"
   ]
  },
  {
   "cell_type": "markdown",
   "id": "94e64434",
   "metadata": {},
   "source": [
    "# Problem 5\n",
    "A company manufactures LED bulbs with a faulty rate of 30%. If I randomly select 6 \n",
    "chosen LEDs, what is the probability of having 2 faulty LEDs in my sample? \n",
    "Calculate the average value of this process. Also evaluate the standard deviation \n",
    "associated with it."
   ]
  },
  {
   "cell_type": "code",
   "execution_count": 12,
   "id": "eda283bd",
   "metadata": {},
   "outputs": [],
   "source": [
    "import matplotlib.pyplot as plt\n",
    "import seaborn as sns\n",
    "%matplotlib inline\n",
    "import pandas as pd\n",
    "import scipy.special\n",
    "\n"
   ]
  },
  {
   "cell_type": "code",
   "execution_count": 13,
   "id": "a30f5300",
   "metadata": {},
   "outputs": [
    {
     "name": "stdout",
     "output_type": "stream",
     "text": [
      "a      2.000000\n",
      "B_a    0.324135\n",
      "Name: 2, dtype: float64\n"
     ]
    },
    {
     "name": "stderr",
     "output_type": "stream",
     "text": [
      "C:\\Users\\DELL\\anaconda3\\lib\\site-packages\\seaborn\\_decorators.py:36: FutureWarning: Pass the following variables as keyword args: x, y. From version 0.12, the only valid positional argument will be `data`, and passing other arguments without an explicit keyword will result in an error or misinterpretation.\n",
      "  warnings.warn(\n"
     ]
    },
    {
     "data": {
      "text/plain": [
       "Text(0, 0.5, 'Probability of Fault')"
      ]
     },
     "execution_count": 13,
     "metadata": {},
     "output_type": "execute_result"
    },
    {
     "data": {
      "image/png": "[encoded data removed]",
      "text/plain": [
       "<Figure size 1080x360 with 1 Axes>"
      ]
     },
     "metadata": {
      "needs_background": "light"
     },
     "output_type": "display_data"
    }
   ],
   "source": [
    "#x = faulty = 0.3\n",
    "#y = not faulty = 0.7\n",
    "x = 0.3\n",
    "y = 0.7\n",
    "df=pd.DataFrame({'a':[int(i) for i in range(7)],\n",
    "                 'B_a':[scipy.special.comb(6,i)*(x**i)*(y**(6-i)) for i in range(7)]})\n",
    "print(df.iloc[2])\n",
    "plt.figure(figsize=(15,5))\n",
    "sns.barplot('a','B_a',data=df)\n",
    "plt.xlabel('Number of Faulty LEDs')\n",
    "plt.ylabel('Probability of Fault')"
   ]
  },
  {
   "cell_type": "code",
   "execution_count": 14,
   "id": "16bf296d",
   "metadata": {},
   "outputs": [
    {
     "name": "stdout",
     "output_type": "stream",
     "text": [
      "mean = 2.0\n",
      "Standard Deviation : 1.0\n"
     ]
    }
   ],
   "source": [
    "df['Expected value']=df['a']*df['B_a']\n",
    "mean=np.round(df['Expected value'].sum())\n",
    "print('mean = {}'.format(mean))\n",
    "df['variance']=df['B_a']*(df['a']-mean)**2\n",
    "std=np.sqrt(df['variance'].sum())\n",
    "print(f\"Standard Deviation : {np.round(std)}\")"
   ]
  },
  {
   "cell_type": "markdown",
   "id": "b129d380",
   "metadata": {},
   "source": [
    "# Problem 6\n",
    "Gaurav and Barakha are both preparing for entrance exams. Gaurav attempts to \n",
    "solve 8 questions per day with a correction rate of 75%, while Barakha averages \n",
    "around 12 questions per day with a correction rate of 45%. What is the probability \n",
    "that each of them will solve 5 questions correctly? What happens in cases of 4 and 6 \n",
    "correct solutions? What do you infer from it? What are the two main governing \n",
    "factors affecting their ability to solve questions correctly? Give a pictorial \n",
    "representation of the same to validate your answer"
   ]
  },
  {
   "cell_type": "code",
   "execution_count": 15,
   "id": "d28bcca4",
   "metadata": {},
   "outputs": [
    {
     "data": {
      "image/png": "[encoded data removed]",
      "text/plain": [
       "<Figure size 1296x576 with 2 Axes>"
      ]
     },
     "metadata": {
      "needs_background": "light"
     },
     "output_type": "display_data"
    }
   ],
   "source": [
    "from scipy.stats import binom \n",
    "import matplotlib.pyplot as plt \n",
    "# setting the values of n and p  \n",
    "n_Gaurav = 8\n",
    "p_Gaurav = 0.75\n",
    "n_Barkha = 12\n",
    "p_Barkha = 0.45\n",
    "# defining list of r values \n",
    "r_values_Gaurav = list(range(n_Gaurav + 1)) \n",
    "r_values_Barkha = list(range(n_Barkha + 1)) \n",
    "# list of pmf values \n",
    "dist_Gaurav = [binom.pmf(r, n_Gaurav, p_Gaurav) for r in r_values_Gaurav]\n",
    "dist_Barkha = [binom.pmf(r, n_Barkha, p_Barkha) for r in r_values_Barkha ]\n",
    "# plotting the graph  \n",
    "fig = plt.figure(figsize=(18,8))\n",
    "plt.subplot(1, 2, 1)\n",
    "plt.title('Gaurav\\'s probability distribution')\n",
    "plt.xlabel('Number of questions solved correctly')\n",
    "plt.ylabel('Probability of solving')\n",
    "plt.bar(r_values_Gaurav, dist_Gaurav)\n",
    "plt.subplot(1, 2, 2)\n",
    "plt.title('Barkha\\'s probability distribution')\n",
    "plt.xlabel('Number of questions solved correctly')\n",
    "plt.ylabel('Probability of solving')\n",
    "plt.bar(r_values_Barkha, dist_Barkha) \n",
    "plt.show()"
   ]
  },
  {
   "cell_type": "code",
   "execution_count": 16,
   "id": "2aecca23",
   "metadata": {},
   "outputs": [
    {
     "name": "stdout",
     "output_type": "stream",
     "text": [
      "Probability to solve 4 correctly for Barkha is 0.1699639321360584\n",
      "Probability to solve 4 correctly for Gaurav is 0.08651733398437499\n",
      "Probability to solve 6 correctly for Barkha is 0.21238468214026457\n",
      "Probability to solve 6 correctly for Gaurav is 0.31146240234375\n"
     ]
    }
   ],
   "source": [
    "print('Probability to solve',r_values_Barkha[4],'correctly for Barkha is', dist_Barkha[4])\n",
    "print('Probability to solve',r_values_Gaurav[4],'correctly for Gaurav is', dist_Gaurav[4])\n",
    "print('Probability to solve',r_values_Barkha[6],'correctly for Barkha is', dist_Barkha[6])\n",
    "print('Probability to solve',r_values_Gaurav[6],'correctly for Gaurav is', dist_Gaurav[6])"
   ]
  },
  {
   "cell_type": "markdown",
   "id": "b4fa9028",
   "metadata": {},
   "source": [
    "# Problem 7\n",
    "Customers arrive at a rate of 72 per hour to my shop. What is the probability of 𝑘\n",
    "customers arriving in 4 minutes? a) 5 customers, b) not more than 3 customers, c) \n",
    "more than 3 customers. Give a pictorial representation of the same to validate your \n",
    "answer"
   ]
  },
  {
   "cell_type": "code",
   "execution_count": 17,
   "id": "5d25a581",
   "metadata": {},
   "outputs": [
    {
     "name": "stderr",
     "output_type": "stream",
     "text": [
      "C:\\Users\\DELL\\anaconda3\\lib\\site-packages\\seaborn\\distributions.py:2619: FutureWarning: `distplot` is a deprecated function and will be removed in a future version. Please adapt your code to use either `displot` (a figure-level function with similar flexibility) or `histplot` (an axes-level function for histograms).\n",
      "  warnings.warn(msg, FutureWarning)\n"
     ]
    },
    {
     "data": {
      "image/png": "[encoded data removed]",
      "text/plain": [
       "<Figure size 432x288 with 1 Axes>"
      ]
     },
     "metadata": {
      "needs_background": "light"
     },
     "output_type": "display_data"
    }
   ],
   "source": [
    "from scipy.stats import poisson\n",
    "import seaborn as sb\n",
    "data_binom = poisson.rvs(mu=4.8, size=200)\n",
    "\n",
    "ax = sb.distplot(data_binom)\n",
    "ax.set(xlabel='Customers per 4 minutes', ylabel='Frequency')\n",
    "plt.title('Poisson distribution')\n",
    "plt.show()"
   ]
  },
  {
   "cell_type": "code",
   "execution_count": 18,
   "id": "6a8823c8",
   "metadata": {},
   "outputs": [
    {
     "name": "stdout",
     "output_type": "stream",
     "text": [
      "Probability of not more than 3 customers is 0.294\n",
      "Probability of more than 3 customers is 0.706\n"
     ]
    },
    {
     "data": {
      "image/png": "[encoded data removed]",
      "text/plain": [
       "<Figure size 432x288 with 1 Axes>"
      ]
     },
     "metadata": {
      "needs_background": "light"
     },
     "output_type": "display_data"
    }
   ],
   "source": [
    "x = np.arange(0,25)\n",
    "prob = poisson.cdf(x, 4.8)\n",
    "y = prob[3]\n",
    "print('Probability of not more than 3 customers is',round(y,3))\n",
    "print('Probability of more than 3 customers is',round((1 - y),3))\n",
    "plt.plot(prob)\n",
    "plt.plot((3,3),(0,1))\n",
    "plt.scatter(3,prob[3])\n",
    "plt.text(3,prob[3],'({}, {})'.format(3, round(prob[3],3)))\n",
    "plt.title('CDF of poisson distribution')\n",
    "plt.show()"
   ]
  },
  {
   "cell_type": "markdown",
   "id": "84c470da",
   "metadata": {},
   "source": [
    "# Problem 8\n",
    "I work as a data analyst in Aeon Learning Pvt. Ltd. After analyzing data, I make \n",
    "reports, where I have the efficiency of entering 77 words per minute with 6 errors per \n",
    "hour. What is the probability that I will commit 2 errors in a 455-word financial report?\n",
    "What happens when the no. of words increases/decreases (in case of 1000 words, \n",
    "255 words)? \n",
    "How is the 𝜆 affected?\n",
    "How does it influence the PMF? \n",
    "Give a pictorial representation of the same to validate your answer."
   ]
  },
  {
   "cell_type": "markdown",
   "id": "0ce327b2",
   "metadata": {},
   "source": [
    "$$\\text{Formula for poisson's distribution is:}\n",
    "\\begin{equation}\n",
    "P(x) = \\frac{e^{-\\lambda}{\\lambda}^x}{x!}\n",
    "\\end{equation}\\\\$$\n",
    "\n",
    "$$\\text{77 words per minute has 6 errors per hour that is 0.1 errorr per minute. }\n",
    "\\\\\n",
    "\\text{So a 455 word report will have an average of 0.59 errors. So }{\\lambda} \n",
    "\\text{ is 0.59. We need probability of 2 errors. Hence x is 2.}\n",
    "$$\n",
    "$$\\text{Substituting the values to formula we get:}\n",
    "\\begin{equation}\n",
    "P(x) = \\frac{e^{-0.59}{0.59}^2}{2!} = \\frac{0.5543*0.3481}{2} = 0.0965\n",
    "\\end{equation}$$\n",
    "\n",
    "$$\\text{77 words per minute has 6 errors per hour that is 0.1 errorr per minute. }\n",
    "\\\\\n",
    "\\text{So a 1000 word report will have an average of 1.299 errors. So }{\\lambda} \n",
    "\\text{ is 1.299. We need probability of 2 errors. Hence x is 2.}\n",
    "$$\n",
    "$$\\text{Substituting the values to formula we get:}\n",
    "\\begin{equation}\n",
    "P(x) = \\frac{e^{-1.299}{1.299}^2}{2!} = \\frac{0.2728*1.6874}{2} = 0.23\n",
    "\\end{equation}$$\n",
    "\n",
    "$$\\text{77 words per minute has 6 errors per hour that is 0.1 errorr per minute. }\n",
    "\\\\\n",
    "\\text{So a 255 word report will have an average of 0.33 errors. So }{\\lambda} \n",
    "\\text{ is 0.33. We need probability of 2 errors. Hence x is 2.}\n",
    "$$\n",
    "$$\\text{Substituting the values to formula we get:}\n",
    "\\begin{equation}\n",
    "P(x) = \\frac{e^{-0.33}{0.33}^2}{2!} = \\frac{0.7189*0.1089}{2} = 0.04\n",
    "\\end{equation}$$"
   ]
  },
  {
   "cell_type": "code",
   "execution_count": 19,
   "id": "251e4472",
   "metadata": {},
   "outputs": [
    {
     "data": {
      "image/png": "[encoded data removed]",
      "text/plain": [
       "<Figure size 1296x576 with 2 Axes>"
      ]
     },
     "metadata": {
      "needs_background": "light"
     },
     "output_type": "display_data"
    }
   ],
   "source": [
    "fig = plt.figure(figsize=(18, 8))\n",
    "x = np.arange(0,10)\n",
    "mu_1 = 0.59\n",
    "mu_2 = 1.299\n",
    "mu_3 = 0.33\n",
    "plt.subplot(1,2,1)\n",
    "plt.plot(x, poisson.pmf(x, mu_1), 'b-', label='λ: 0.59')\n",
    "plt.plot(x, poisson.pmf(x, mu_2), 'g-', label='λ: 1.299')\n",
    "plt.plot(x, poisson.pmf(x, mu_3), 'r-', label='λ: 0.33')\n",
    "plt.legend()\n",
    "plt.title('PDF for different lambda')\n",
    "plt.subplot(1, 2, 2)\n",
    "x = np.arange(0,10)\n",
    "mu_1 = 0.59\n",
    "mu_2 = 1.299\n",
    "mu_3 = 0.33\n",
    "plt.plot(x, poisson.cdf(x, mu_1), 'b-',label='λ: 0.59')\n",
    "plt.plot(x, poisson.cdf(x, mu_2), 'g-', label='λ: 1.299')\n",
    "plt.plot(x, poisson.cdf(x, mu_3), 'r-', label='λ: 0.33')\n",
    "plt.legend()\n",
    "plt.title('CDF for different lambda')\n",
    "plt.show()"
   ]
  },
  {
   "cell_type": "markdown",
   "id": "08156dcb",
   "metadata": {},
   "source": [
    "On changing lambda the pmf becomes more spread with decreasing peak"
   ]
  },
  {
   "cell_type": "markdown",
   "id": "1a92b3ec",
   "metadata": {},
   "source": [
    "# Problem 9\n",
    "Let the continuous random variable D denote the diameter of the hole drilled in an \n",
    "aluminum sheet. The target diameter to be achieved is 12.5mm. Random \n",
    "disturbances in the process often result in inaccuracy.\n",
    "Historical data shows that the distribution of D can be modelled by the PDF, f(d) = \n",
    "20e−20(d−12.5), d ≥ 12.5. If a part with diameter > 12.6 mm needs to be scrapped, \n",
    "what is the proportion of those parts? What is the CDF when the diameter is of 11 \n",
    "mm?\n",
    "What is the conclusion of this experiment?\n"
   ]
  },
  {
   "cell_type": "markdown",
   "id": "358ec8d8",
   "metadata": {},
   "source": [
    "$$\\text{Proportion that a part with diameter > 12.5mm needs to be scraped is:}\n",
    "\\\\\n",
    "\\begin{equation}\n",
    "P(X>12.6)= \\int_{12.6}^{\\infty} 20e^{-20(x-12.5)} dx = \\left[-e^{-20(x-12.5)}\\right]_{12.6}^{\\infty} = 0.135\n",
    "\\end{equation}$$\n",
    "\n",
    "\n",
    "$$\\text{CDF when diameter is 11mm is 0 since the PDF function is only applicable when d>=12.5 .}\n",
    "\\\\\n",
    "\\text{For proportion of scraps: P(12.5 < X < x) that is proportion that a particular diameter x lies between X ans 12.5}\n",
    "\\\\\n",
    "\\text{F(x) = 0 for x < 12.5}\n",
    "\\\\$$\n",
    "\n",
    "$$\\begin{equation} F(x)= \\int_{12.5}^x 20e^{-20(u-12.5)} du = 1 - e^{-20(x-12.5)} \\text{for x>= 12.5} \\end{equation}$$\n",
    "\n",
    "\\begin{equation}\n",
    "  F(x)=\\begin{cases}\n",
    "    0, & \\text{if $x<12.5$}.\\\\\n",
    "    1-e^{-20(x-12.5)}, & \\text{for x>=12.5}.\n",
    "  \\end{cases} \n",
    "  \\\\\n",
    "  \\text{where F(x) is P(12.5 < X < x)}\n",
    "\\end{equation}\n",
    "<h3>Conclusion </h3>\n",
    "<p>For any value of diameter less than 12.5 mm, the proportion of scraps is zero. For any value above 12.5 mm the proportion of scraps follow the equation: </p> $$1-e^{-20(x-12.5)}$$"
   ]
  },
  {
   "cell_type": "markdown",
   "id": "d6ad5dd7",
   "metadata": {},
   "source": [
    "# Problem 10\n",
    "Please compute the following:\n",
    "a) P(Z > 1.26), . P(Z < −0.86), P(Z > −1.37), P(−1.25 < Z < 0.37), . P(Z ≤ −4.6)\n",
    "b) Find the value 𝑧 such that 𝑃(𝑍 > 𝑧) = 0.05\n",
    "c) Find the value of 𝑧 such that 𝑃(−𝑧 < 𝑍 < 𝑧) = 0.99"
   ]
  },
  {
   "cell_type": "code",
   "execution_count": 20,
   "id": "9c2c868c",
   "metadata": {},
   "outputs": [
    {
     "name": "stdout",
     "output_type": "stream",
     "text": [
      "P(Z>1.26) = 0.10383\n",
      "P(Z<-0.86) = 0.19489\n",
      "P(Z>-1.37) = 0.91466\n",
      "P(−1.25 < Z < 0.37) = 0.53866\n",
      "P(Z ≤ −4.6) = 0.00000\n"
     ]
    }
   ],
   "source": [
    "from scipy.stats import norm\n",
    "def P(z,b=-np.inf) :\n",
    "    return integrate.quad(norm.pdf,b,z)[0]\n",
    "\n",
    "print('P(Z>1.26) = %.5f'%(1-P(1.26)))\n",
    "print('P(Z<-0.86) = %.5f'%P(-0.86))\n",
    "print('P(Z>-1.37) = %.5f'%(1-P(-1.37)))\n",
    "print('P(−1.25 < Z < 0.37) = %.5f'%P(0.37,b=-1.25))\n",
    "print('P(Z ≤ −4.6) = %.5f'%P(-4.6))"
   ]
  },
  {
   "cell_type": "code",
   "execution_count": 21,
   "id": "06409e3b",
   "metadata": {},
   "outputs": [
    {
     "name": "stdout",
     "output_type": "stream",
     "text": [
      "P(Z>z)=0.05 is 1.64\n",
      "𝑃(−𝑧 < 𝑍 < 𝑧) = 0.99 is 2.58\n"
     ]
    }
   ],
   "source": [
    "print('P(Z>z)=0.05 is %.2f'%(-1*norm.ppf(0.05)))\n",
    "print('𝑃(−𝑧 < 𝑍 < 𝑧) = 0.99 is %.2f'%(abs(norm.ppf(0.005))))"
   ]
  },
  {
   "cell_type": "markdown",
   "id": "c8808604",
   "metadata": {},
   "source": [
    "# Problem 11\n",
    "The current flow in a copper wire follow a normal distribution with a mean of 10 𝑚A \n",
    "and a variance of 4 (𝑚𝐴)2. \n",
    "What is the probability that a current measurement will exceed 13 𝑚𝐴? What is the \n",
    "probability that a current measurement is between 9 and 11mA? Determine the \n",
    "current measurement which has a probability of 0.98."
   ]
  },
  {
   "cell_type": "code",
   "execution_count": 22,
   "id": "2b0f6528",
   "metadata": {},
   "outputs": [
    {
     "name": "stdout",
     "output_type": "stream",
     "text": [
      "Probability that current > 13mA is: 0.06680720126885797\n",
      "Probability that current is between 9 mA and 11 mA is : 1.3085375387259144\n"
     ]
    }
   ],
   "source": [
    "mean = 10\n",
    "std = np.sqrt(4)\n",
    "\n",
    "def I(z, b=-np.inf):\n",
    "    z = (z-mean)/std\n",
    "    return integrate.quad(norm.pdf,b,z)[0]\n",
    "print(f\"Probability that current > 13mA is: {1-I(13)}\")\n",
    "print(f\"Probability that current is between 9 mA and 11 mA is : {1-I(11,b=9)}\")"
   ]
  },
  {
   "cell_type": "markdown",
   "id": "a6445ef5",
   "metadata": {},
   "source": [
    "# Problem 12\n",
    "The shaft in a piston has its diameter normally distributed with a mean of 0.2508 inch \n",
    "and a standard deviation of 0.0005 inch. The specifications of the shaft are 0.2500 ∓\n",
    "0.0015 inch. What proportion of shafts are in sync with the specifications? If the \n",
    "process is centered so that the mean is equal to the target value of 0.2500, what \n",
    "proportion of shafts conform to the new specifications? What is your conclusion from \n",
    "this experiment?\n"
   ]
  },
  {
   "cell_type": "code",
   "execution_count": 23,
   "id": "2b4e9b1b",
   "metadata": {},
   "outputs": [
    {
     "name": "stdout",
     "output_type": "stream",
     "text": [
      "Proportion of shafts with dia in range of 0.2485<d<0.2515 when mean diameter:(0.2508, None)\n",
      "Proportion of shafts with dia in range of 0.2485<d<0.2515 when mean diameter:(0.25, None)\n"
     ]
    }
   ],
   "source": [
    "mean_dia=0.2508\n",
    "std_dia=0.0005\n",
    "#specified dia in the range of 0.2485<d<0.2515\n",
    "#case-1 if mean_dia=0.2508\n",
    "def I(mean,std,a,b) :\n",
    "  #gives P(Z<=x)\n",
    "  a=(a-mean)/std\n",
    "  b=(b-mean)/std\n",
    "print(f\"Proportion of shafts with dia in range of 0.2485<d<0.2515 when mean diameter:{0.2508,I(0.2508,0.0005,0.2485,0.2515)}\")\n",
    "print(f\"Proportion of shafts with dia in range of 0.2485<d<0.2515 when mean diameter:{0.2500,I(0.2500,0.0005,0.2485,0.2515)}\")"
   ]
  },
  {
   "cell_type": "code",
   "execution_count": null,
   "id": "5ac5be1e",
   "metadata": {},
   "outputs": [],
   "source": []
  }
 ],
 "metadata": {
  "kernelspec": {
   "display_name": "Python 3",
   "language": "python",
   "name": "python3"
  },
  "language_info": {
   "codemirror_mode": {
    "name": "ipython",
    "version": 3
   },
   "file_extension": ".py",
   "mimetype": "text/x-python",
   "name": "python",
   "nbconvert_exporter": "python",
   "pygments_lexer": "ipython3",
   "version": "3.9.7"
  }
 },
 "nbformat": 4,
 "nbformat_minor": 5
}
