{
 "cells": [
  {
   "cell_type": "code",
   "execution_count": 1,
   "id": "28559904",
   "metadata": {},
   "outputs": [
    {
     "name": "stdout",
     "output_type": "stream",
     "text": [
      "*\n",
      "**\n",
      "***\n",
      "****\n",
      "*****\n",
      "****\n",
      "***\n",
      "**\n",
      "*\n"
     ]
    }
   ],
   "source": [
    "c=list(range(11))\n",
    "for i in c:\n",
    "    if i==0:\n",
    "        continue\n",
    "    elif i<=4:\n",
    "        print(i*\"*\")\n",
    "    else:\n",
    "        c.reverse()\n",
    "        print(i*\"*\")"
   ]
  },
  {
   "cell_type": "code",
   "execution_count": null,
   "id": "2486431f",
   "metadata": {
    "scrolled": true
   },
   "outputs": [],
   "source": [
    "a=input(\"Input word:\")\n",
    "a[::-1]"
   ]
  }
 ],
 "metadata": {
  "kernelspec": {
   "display_name": "Python 3",
   "language": "python",
   "name": "python3"
  },
  "language_info": {
   "codemirror_mode": {
    "name": "ipython",
    "version": 3
   },
   "file_extension": ".py",
   "mimetype": "text/x-python",
   "name": "python",
   "nbconvert_exporter": "python",
   "pygments_lexer": "ipython3",
   "version": "3.8.8"
  }
 },
 "nbformat": 4,
 "nbformat_minor": 5
}
