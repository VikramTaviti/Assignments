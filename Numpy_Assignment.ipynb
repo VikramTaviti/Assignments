{
 "cells": [
  {
   "cell_type": "code",
   "execution_count": 1,
   "id": "1663b461",
   "metadata": {},
   "outputs": [],
   "source": [
    "import numpy as np"
   ]
  },
  {
   "cell_type": "markdown",
   "id": "9a100a3f",
   "metadata": {},
   "source": [
    "# Problem 1"
   ]
  },
  {
   "cell_type": "code",
   "execution_count": 2,
   "id": "55d0e850",
   "metadata": {},
   "outputs": [],
   "source": [
    "#Writing a function \n",
    "\n",
    "def func(arr,n):\n",
    "    return np.column_stack([arr**(n-i-1) for i in range(n)])"
   ]
  },
  {
   "cell_type": "code",
   "execution_count": 3,
   "id": "09a2acb7",
   "metadata": {},
   "outputs": [
    {
     "data": {
      "text/plain": [
       "array([[  1,   1,   1,   1,   1],\n",
       "       [ 16,   8,   4,   2,   1],\n",
       "       [ 81,  27,   9,   3,   1],\n",
       "       [256,  64,  16,   4,   1]], dtype=int32)"
      ]
     },
     "execution_count": 3,
     "metadata": {},
     "output_type": "execute_result"
    }
   ],
   "source": [
    "func(np.array([1,2,3,4,]),5)"
   ]
  },
  {
   "cell_type": "code",
   "execution_count": 4,
   "id": "0e456c34",
   "metadata": {},
   "outputs": [],
   "source": [
    "#Same task can be done using np.vander() method"
   ]
  },
  {
   "cell_type": "code",
   "execution_count": 5,
   "id": "0a3c96a3",
   "metadata": {},
   "outputs": [],
   "source": [
    "arr=np.array([1,2,3,4,])\n",
    "N=5"
   ]
  },
  {
   "cell_type": "code",
   "execution_count": 6,
   "id": "180bbc73",
   "metadata": {},
   "outputs": [
    {
     "data": {
      "text/plain": [
       "array([[  1,   1,   1,   1,   1],\n",
       "       [ 16,   8,   4,   2,   1],\n",
       "       [ 81,  27,   9,   3,   1],\n",
       "       [256,  64,  16,   4,   1]])"
      ]
     },
     "execution_count": 6,
     "metadata": {},
     "output_type": "execute_result"
    }
   ],
   "source": [
    "np.vander(arr,N,increasing=False)"
   ]
  },
  {
   "cell_type": "markdown",
   "id": "f0c7b2db",
   "metadata": {},
   "source": [
    "# Problem 2"
   ]
  },
  {
   "cell_type": "code",
   "execution_count": 7,
   "id": "1de50c17",
   "metadata": {},
   "outputs": [],
   "source": [
    "def moving_averages(arr,window):\n",
    "    initial,final=0,window-1\n",
    "    for i in range(len(arr)-window+1):\n",
    "        sol=sum(arr[initial:(final+1)])\n",
    "        print('y',str(i+1),' : ',sol//window)\n",
    "        initial+=1\n",
    "        final+=1"
   ]
  },
  {
   "cell_type": "code",
   "execution_count": 8,
   "id": "5a3f66e4",
   "metadata": {},
   "outputs": [
    {
     "name": "stdout",
     "output_type": "stream",
     "text": [
      "y 1  :  25\n",
      "y 2  :  35\n",
      "y 3  :  45\n",
      "y 4  :  55\n",
      "y 5  :  65\n",
      "y 6  :  75\n",
      "y 7  :  85\n"
     ]
    }
   ],
   "source": [
    "moving_averages(np.array([10, 20, 30, 40 ,50 ,60, 70, 80, 90, 100]),4)"
   ]
  },
  {
   "cell_type": "code",
   "execution_count": 9,
   "id": "66a55256",
   "metadata": {},
   "outputs": [
    {
     "name": "stdout",
     "output_type": "stream",
     "text": [
      "y 1  :  5\n",
      "y 2  :  4\n",
      "y 3  :  5\n",
      "y 4  :  6\n",
      "y 5  :  9\n",
      "y 6  :  28\n",
      "y 7  :  49\n",
      "y 8  :  72\n",
      "y 9  :  84\n",
      "y 10  :  93\n",
      "y 11  :  116\n"
     ]
    }
   ],
   "source": [
    "#Testcase\n",
    "moving_averages(np.array([3, 5, 7, 2, 8, 10, 11, 65, 72, 81, 99, 100, 150]),window=3)"
   ]
  },
  {
   "cell_type": "code",
   "execution_count": null,
   "id": "f76e3cf7",
   "metadata": {},
   "outputs": [],
   "source": []
  }
 ],
 "metadata": {
  "kernelspec": {
   "display_name": "Python 3",
   "language": "python",
   "name": "python3"
  },
  "language_info": {
   "codemirror_mode": {
    "name": "ipython",
    "version": 3
   },
   "file_extension": ".py",
   "mimetype": "text/x-python",
   "name": "python",
   "nbconvert_exporter": "python",
   "pygments_lexer": "ipython3",
   "version": "3.9.7"
  }
 },
 "nbformat": 4,
 "nbformat_minor": 5
}
