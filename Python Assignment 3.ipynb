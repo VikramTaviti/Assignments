{
 "cells": [
  {
   "cell_type": "code",
   "execution_count": 1,
   "id": "128a805d",
   "metadata": {},
   "outputs": [],
   "source": [
    "def myreduce(fc,iterables):\n",
    "    \"\"\"It acts as built in function reduce() which takes myreduce(function,iterable data)\"\"\"\n",
    "    if type(iterables)==str or type(iterables)==list or type(iterables)==tuple or type(iterables)==dict:\n",
    "        itr=iter(iterables)\n",
    "        a=next(itr)\n",
    "        for i in range(len(iterables)-1): \n",
    "            b=next(itr)\n",
    "            fc(a,b)\n",
    "            a=fc(a,b)\n",
    "        sol=a\n",
    "    return sol\n",
    "              "
   ]
  },
  {
   "cell_type": "code",
   "execution_count": 2,
   "id": "7fd8a479",
   "metadata": {},
   "outputs": [],
   "source": [
    "def myfilter(func,iterable):\n",
    "    \"\"\"It acts as built in function filter which takes two arguments myfilter(function,iterable data)\"\"\"\n",
    "    itr=iter(iterable)\n",
    "    for i in range(len(iterable)):\n",
    "        a=next(itr)\n",
    "        if func(a)==True:\n",
    "            yield a\n",
    "        else:\n",
    "            continue         "
   ]
  },
  {
   "cell_type": "code",
   "execution_count": 3,
   "id": "dd41b3da",
   "metadata": {},
   "outputs": [
    {
     "data": {
      "text/plain": [
       "['x', 'xx', 'xxx', 'xxxx', 'y', 'yy', 'yyy', 'yyyy', 'z', 'zz', 'zzz', 'zzzz']"
      ]
     },
     "execution_count": 3,
     "metadata": {},
     "output_type": "execute_result"
    }
   ],
   "source": [
    "[i*j for i in ['x','y','z']  for j in [1,2,3,4]]"
   ]
  },
  {
   "cell_type": "code",
   "execution_count": 4,
   "id": "bc6859ea",
   "metadata": {},
   "outputs": [
    {
     "data": {
      "text/plain": [
       "['x', 'y', 'z', 'xx', 'yy', 'zz', 'xxx', 'yyy', 'zzz', 'xxxx', 'yyyy', 'zzzz']"
      ]
     },
     "execution_count": 4,
     "metadata": {},
     "output_type": "execute_result"
    }
   ],
   "source": [
    "[i*j for j in range(1,5) for i in 'xyz'] "
   ]
  },
  {
   "cell_type": "code",
   "execution_count": 5,
   "id": "27006c46",
   "metadata": {},
   "outputs": [],
   "source": [
    "num=[2,3,4,5,6]\n",
    "def t(x):\n",
    "    itr=iter(x)\n",
    "    a=next(itr)\n",
    "    b=next(itr)\n",
    "    d=[]\n",
    "    for i in range(len(x)-2):\n",
    "        c=next(itr)\n",
    "        yield [a]\n",
    "        yield [b]\n",
    "        yield [c]\n",
    "        a=b\n",
    "        b=c      "
   ]
  },
  {
   "cell_type": "code",
   "execution_count": 6,
   "id": "c0b17095",
   "metadata": {},
   "outputs": [
    {
     "data": {
      "text/plain": [
       "[[2], [3], [4], [3], [4], [5], [4], [5], [6]]"
      ]
     },
     "execution_count": 6,
     "metadata": {},
     "output_type": "execute_result"
    }
   ],
   "source": [
    "[i for i in t(num)]"
   ]
  },
  {
   "cell_type": "code",
   "execution_count": 7,
   "id": "a4ae28bb",
   "metadata": {},
   "outputs": [],
   "source": [
    "numbers=[0,1,2,3,4,5,6,7,8,9]\n",
    "def m(x):\n",
    "    itr=iter(x)\n",
    "    for i in range(2,6):\n",
    "        \n",
    "        y=x[i:i+4]\n",
    "        yield y"
   ]
  },
  {
   "cell_type": "code",
   "execution_count": 8,
   "id": "da5cf5e9",
   "metadata": {},
   "outputs": [
    {
     "data": {
      "text/plain": [
       "[[2, 3, 4, 5], [3, 4, 5, 6], [4, 5, 6, 7], [5, 6, 7, 8]]"
      ]
     },
     "execution_count": 8,
     "metadata": {},
     "output_type": "execute_result"
    }
   ],
   "source": [
    "[i for i in m(numbers)]"
   ]
  },
  {
   "cell_type": "code",
   "execution_count": 9,
   "id": "e79c2e3a",
   "metadata": {},
   "outputs": [
    {
     "data": {
      "text/plain": [
       "[(1, 1), (2, 1), (3, 1), (1, 2), (2, 2), (3, 2), (1, 3), (2, 3), (3, 3)]"
      ]
     },
     "execution_count": 9,
     "metadata": {},
     "output_type": "execute_result"
    }
   ],
   "source": [
    "[(i,j) for j in range(1,4) for i in range(1,4)]"
   ]
  },
  {
   "cell_type": "code",
   "execution_count": null,
   "id": "a6c9d7bb",
   "metadata": {},
   "outputs": [],
   "source": []
  }
 ],
 "metadata": {
  "kernelspec": {
   "display_name": "Python 3",
   "language": "python",
   "name": "python3"
  },
  "language_info": {
   "codemirror_mode": {
    "name": "ipython",
    "version": 3
   },
   "file_extension": ".py",
   "mimetype": "text/x-python",
   "name": "python",
   "nbconvert_exporter": "python",
   "pygments_lexer": "ipython3",
   "version": "3.8.8"
  }
 },
 "nbformat": 4,
 "nbformat_minor": 5
}
