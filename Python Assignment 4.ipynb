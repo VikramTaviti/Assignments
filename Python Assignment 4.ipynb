{
 "cells": [
  {
   "cell_type": "code",
   "execution_count": 1,
   "id": "56aa4ba2",
   "metadata": {},
   "outputs": [],
   "source": [
    "class Triangle:\n",
    "    def pass_sides(self,a,b,c):\n",
    "        self.a=a\n",
    "        self.b=b\n",
    "        self.c=c\n",
    "class Area(Triangle):\n",
    "    def __init__(self,*args):\n",
    "        super(Area,self).__init__(*args)\n",
    "    def find_area(self):\n",
    "        s=(self.a+self.b+self.c)/2\n",
    "        return (s*(s-self.a)*(s-self.b)*(s-self.c)) ** 0.5\n"
   ]
  },
  {
   "cell_type": "code",
   "execution_count": 2,
   "id": "c894b525",
   "metadata": {},
   "outputs": [],
   "source": [
    "test=Area()"
   ]
  },
  {
   "cell_type": "code",
   "execution_count": 3,
   "id": "d4ef488f",
   "metadata": {},
   "outputs": [],
   "source": [
    "test.pass_sides(5,4,6)"
   ]
  },
  {
   "cell_type": "code",
   "execution_count": 4,
   "id": "f114cb8f",
   "metadata": {},
   "outputs": [
    {
     "data": {
      "text/plain": [
       "9.921567416492215"
      ]
     },
     "execution_count": 4,
     "metadata": {},
     "output_type": "execute_result"
    }
   ],
   "source": [
    "test.find_area()"
   ]
  },
  {
   "cell_type": "code",
   "execution_count": 5,
   "id": "1880993c",
   "metadata": {},
   "outputs": [],
   "source": [
    "def filter_long_words(l,n):\n",
    "    m=[]\n",
    "    for i in l:\n",
    "        if len(i)>n:\n",
    "            m.append(i)\n",
    "    return m\n",
    "    "
   ]
  },
  {
   "cell_type": "code",
   "execution_count": 6,
   "id": "4c388bc7",
   "metadata": {},
   "outputs": [],
   "source": [
    "def _map(l):\n",
    "    m=[]\n",
    "    for i in l:\n",
    "        m.append(len(i))\n",
    "    return m"
   ]
  },
  {
   "cell_type": "code",
   "execution_count": null,
   "id": "16011146",
   "metadata": {},
   "outputs": [],
   "source": [
    "def vowels(c):\n",
    "    vowels=['a','e','i','o','u']\n",
    "    c=c.lower()\n",
    "    for i in vowels:\n",
    "        if i==c:\n",
    "            return True\n",
    "    else:\n",
    "        return False"
   ]
  }
 ],
 "metadata": {
  "kernelspec": {
   "display_name": "Python 3",
   "language": "python",
   "name": "python3"
  },
  "language_info": {
   "codemirror_mode": {
    "name": "ipython",
    "version": 3
   },
   "file_extension": ".py",
   "mimetype": "text/x-python",
   "name": "python",
   "nbconvert_exporter": "python",
   "pygments_lexer": "ipython3",
   "version": "3.8.8"
  }
 },
 "nbformat": 4,
 "nbformat_minor": 5
}
